{
 "cells": [
  {
   "cell_type": "code",
   "execution_count": 1,
   "id": "2487137a-6d85-42a8-8f68-ea8feef8ca24",
   "metadata": {},
   "outputs": [],
   "source": [
    "\n",
    "from scipy.io import mmread\n",
    "import numpy as np"
   ]
  },
  {
   "cell_type": "code",
   "execution_count": 2,
   "id": "62877cd5-20c9-4cbc-ba59-d8285cd593c2",
   "metadata": {},
   "outputs": [
    {
     "data": {
      "text/plain": [
       "<35329x2358 sparse matrix of type '<class 'numpy.int64'>'\n",
       "\twith 656054 stored elements in COOrdinate format>"
      ]
     },
     "execution_count": 2,
     "metadata": {},
     "output_type": "execute_result"
    }
   ],
   "source": [
    "mm10 = mmread('results/2022-09-27-sample-specific-peak/mm10/MATRIX_OUTPUT_merged_peaks_QCed_cells_1.mtx')\n",
    "mm10"
   ]
  },
  {
   "cell_type": "code",
   "execution_count": 3,
   "id": "d5c776d6-2703-4d93-908b-2f5063f37d3d",
   "metadata": {},
   "outputs": [
    {
     "data": {
      "text/plain": [
       "<35329x2358 sparse matrix of type '<class 'numpy.int64'>'\n",
       "\twith 1200095 stored elements in COOrdinate format>"
      ]
     },
     "execution_count": 3,
     "metadata": {},
     "output_type": "execute_result"
    }
   ],
   "source": [
    "ambiguous = mmread('results/2022-09-27-sample-specific-peak/ambiguous/MATRIX_OUTPUT_merged_peaks_QCed_cells_1.mtx')\n",
    "ambiguous"
   ]
  },
  {
   "cell_type": "code",
   "execution_count": 4,
   "id": "e56016a8-8b6a-4242-9c32-3b6ca2b19f33",
   "metadata": {},
   "outputs": [
    {
     "data": {
      "text/plain": [
       "<35329x2358 sparse matrix of type '<class 'numpy.int64'>'\n",
       "\twith 123515 stored elements in COOrdinate format>"
      ]
     },
     "execution_count": 4,
     "metadata": {},
     "output_type": "execute_result"
    }
   ],
   "source": [
    "CAST = mmread('results/2022-09-27-sample-specific-peak/CAST/MATRIX_OUTPUT_merged_peaks_QCed_cells_1.mtx')\n",
    "CAST"
   ]
  },
  {
   "cell_type": "code",
   "execution_count": 5,
   "id": "b8f5a4f2-9287-4dd0-876e-bccca4bbc1cc",
   "metadata": {},
   "outputs": [
    {
     "data": {
      "text/plain": [
       "2469621"
      ]
     },
     "execution_count": 5,
     "metadata": {},
     "output_type": "execute_result"
    }
   ],
   "source": [
    "np.sum((mm10.data))"
   ]
  },
  {
   "cell_type": "code",
   "execution_count": 6,
   "id": "bc34602d-0213-4443-9aa6-3b70f72c6566",
   "metadata": {},
   "outputs": [
    {
     "data": {
      "text/plain": [
       "239868"
      ]
     },
     "execution_count": 6,
     "metadata": {},
     "output_type": "execute_result"
    }
   ],
   "source": [
    "np.sum((CAST.data))"
   ]
  },
  {
   "cell_type": "code",
   "execution_count": 7,
   "id": "0c1e0e8e-726b-49bc-b763-904e9e0a8f8f",
   "metadata": {},
   "outputs": [
    {
     "data": {
      "text/plain": [
       "3394965"
      ]
     },
     "execution_count": 7,
     "metadata": {},
     "output_type": "execute_result"
    }
   ],
   "source": [
    "np.sum((ambiguous.data))"
   ]
  },
  {
   "cell_type": "code",
   "execution_count": 8,
   "id": "7ac9398f-7abc-46c5-8fa3-b7e2823f47e3",
   "metadata": {},
   "outputs": [],
   "source": [
    "bin_mm10 = mm10>0"
   ]
  },
  {
   "cell_type": "code",
   "execution_count": 9,
   "id": "bd6de9ac-b0c0-415d-85c0-c400eedcef9c",
   "metadata": {},
   "outputs": [
    {
     "name": "stdout",
     "output_type": "stream",
     "text": [
      "  (0, 28)\tTrue\n",
      "  (0, 127)\tTrue\n",
      "  (0, 265)\tTrue\n",
      "  (0, 382)\tTrue\n",
      "  (0, 490)\tTrue\n",
      "  (0, 522)\tTrue\n",
      "  (0, 535)\tTrue\n",
      "  (0, 581)\tTrue\n",
      "  (0, 918)\tTrue\n",
      "  (0, 1063)\tTrue\n",
      "  (0, 1255)\tTrue\n",
      "  (0, 1543)\tTrue\n",
      "  (0, 1547)\tTrue\n",
      "  (0, 1691)\tTrue\n",
      "  (0, 1739)\tTrue\n",
      "  (0, 1796)\tTrue\n",
      "  (0, 1853)\tTrue\n",
      "  (0, 1879)\tTrue\n",
      "  (0, 1915)\tTrue\n",
      "  (0, 1977)\tTrue\n",
      "  (0, 2164)\tTrue\n",
      "  (0, 2187)\tTrue\n",
      "  (0, 2312)\tTrue\n",
      "  (0, 2347)\tTrue\n",
      "  (1, 265)\tTrue\n",
      "  (1, 406)\tTrue\n",
      "  (1, 407)\tTrue\n",
      "  (1, 804)\tTrue\n",
      "  (1, 1104)\tTrue\n",
      "  (1, 1263)\tTrue\n",
      "  (1, 1307)\tTrue\n",
      "  (1, 1861)\tTrue\n",
      "  (1, 1868)\tTrue\n"
     ]
    }
   ],
   "source": [
    "print(bin_mm10[1:3])"
   ]
  },
  {
   "cell_type": "code",
   "execution_count": 10,
   "id": "73047464-374e-4f09-8677-41058aa6bf42",
   "metadata": {},
   "outputs": [],
   "source": [
    "bin_CAST = CAST>0"
   ]
  },
  {
   "cell_type": "code",
   "execution_count": 11,
   "id": "95474429-75b0-4bc7-9938-795c5944c4b3",
   "metadata": {},
   "outputs": [],
   "source": [
    "Y= 4*bin_CAST + 2*bin_mm10"
   ]
  },
  {
   "cell_type": "code",
   "execution_count": 12,
   "id": "521c3259-fe4b-4fa9-8eef-2f285baeb276",
   "metadata": {},
   "outputs": [
    {
     "data": {
      "text/plain": [
       "<35329x2358 sparse matrix of type '<class 'numpy.int64'>'\n",
       "\twith 767411 stored elements in Compressed Sparse Row format>"
      ]
     },
     "execution_count": 12,
     "metadata": {},
     "output_type": "execute_result"
    }
   ],
   "source": [
    "Y"
   ]
  },
  {
   "cell_type": "code",
   "execution_count": 15,
   "id": "6caaf8aa-0f2d-47f2-8dde-5fb01b444e39",
   "metadata": {},
   "outputs": [
    {
     "data": {
      "text/plain": [
       "2709489"
      ]
     },
     "execution_count": 15,
     "metadata": {},
     "output_type": "execute_result"
    }
   ],
   "source": [
    "np.sum((CAST.data))+np.sum((mm10.data))"
   ]
  },
  {
   "cell_type": "code",
   "execution_count": 13,
   "id": "97ac3ed7-49b8-4576-98bf-bac30e71a618",
   "metadata": {},
   "outputs": [],
   "source": [
    "bin_ambiguous = ambiguous > 0"
   ]
  },
  {
   "cell_type": "code",
   "execution_count": 14,
   "id": "6ec50f90-7897-4676-8425-783d0194a2d5",
   "metadata": {},
   "outputs": [
    {
     "data": {
      "text/plain": [
       "<35329x2358 sparse matrix of type '<class 'numpy.int64'>'\n",
       "\twith 1859690 stored elements in Compressed Sparse Row format>"
      ]
     },
     "execution_count": 14,
     "metadata": {},
     "output_type": "execute_result"
    }
   ],
   "source": [
    "Y= 4*bin_CAST + 2*bin_mm10 + bin_ambiguous\n",
    "Y"
   ]
  },
  {
   "cell_type": "code",
   "execution_count": 16,
   "id": "32efd09a-d991-414c-8e68-9fcb9404d7f5",
   "metadata": {},
   "outputs": [
    {
     "data": {
      "text/plain": [
       "83305782"
      ]
     },
     "execution_count": 16,
     "metadata": {},
     "output_type": "execute_result"
    }
   ],
   "source": [
    "35329*2358"
   ]
  },
  {
   "cell_type": "code",
   "execution_count": 19,
   "id": "d61cba75-1e07-41e4-824e-7b65cb929846",
   "metadata": {},
   "outputs": [
    {
     "name": "stdout",
     "output_type": "stream",
     "text": [
      "(0,0,0):\n"
     ]
    },
    {
     "data": {
      "text/plain": [
       "81446092"
      ]
     },
     "execution_count": 19,
     "metadata": {},
     "output_type": "execute_result"
    }
   ],
   "source": [
    "print(\"(0,0,0):\")\n",
    "35329*2358-1859690\n"
   ]
  },
  {
   "cell_type": "code",
   "execution_count": 18,
   "id": "9e35adea-28fd-4f06-b006-cd0049e3aec2",
   "metadata": {},
   "outputs": [
    {
     "name": "stdout",
     "output_type": "stream",
     "text": [
      "Sparsity\n",
      "0.9776763394406405\n"
     ]
    }
   ],
   "source": [
    "print(\"Sparsity\")\n",
    "\n",
    "print(81446092/35329/2358)\n"
   ]
  },
  {
   "cell_type": "code",
   "execution_count": 20,
   "id": "c7ab2659-09ac-4c1c-87d7-e4a3251c5e2f",
   "metadata": {},
   "outputs": [
    {
     "name": "stdout",
     "output_type": "stream",
     "text": [
      "  (0, 27)\t1\n",
      "  (0, 28)\t2\n",
      "  (0, 60)\t1\n",
      "  (0, 127)\t2\n",
      "  (0, 147)\t1\n",
      "  (0, 195)\t1\n",
      "  (0, 252)\t1\n",
      "  (0, 265)\t3\n",
      "  (0, 382)\t2\n",
      "  (0, 407)\t1\n",
      "  (0, 462)\t1\n",
      "  (0, 474)\t1\n",
      "  (0, 490)\t2\n",
      "  (0, 522)\t2\n",
      "  (0, 525)\t1\n",
      "  (0, 531)\t1\n",
      "  (0, 535)\t2\n",
      "  (0, 540)\t1\n",
      "  (0, 581)\t2\n",
      "  (0, 606)\t1\n",
      "  (0, 617)\t1\n",
      "  (0, 664)\t1\n",
      "  (0, 686)\t1\n",
      "  (0, 700)\t1\n",
      "  (0, 740)\t1\n",
      "  :\t:\n",
      "  (0, 1637)\t1\n",
      "  (0, 1685)\t1\n",
      "  (0, 1691)\t2\n",
      "  (0, 1700)\t1\n",
      "  (0, 1739)\t2\n",
      "  (0, 1762)\t1\n",
      "  (0, 1784)\t1\n",
      "  (0, 1790)\t1\n",
      "  (0, 1793)\t1\n",
      "  (0, 1796)\t2\n",
      "  (0, 1853)\t3\n",
      "  (0, 1879)\t2\n",
      "  (0, 1887)\t1\n",
      "  (0, 1915)\t2\n",
      "  (0, 1928)\t1\n",
      "  (0, 1977)\t2\n",
      "  (0, 2103)\t1\n",
      "  (0, 2163)\t1\n",
      "  (0, 2164)\t2\n",
      "  (0, 2187)\t3\n",
      "  (0, 2270)\t1\n",
      "  (0, 2274)\t1\n",
      "  (0, 2312)\t2\n",
      "  (0, 2344)\t1\n",
      "  (0, 2347)\t3\n"
     ]
    }
   ],
   "source": [
    "print(Y[1])"
   ]
  },
  {
   "cell_type": "code",
   "execution_count": 21,
   "id": "f69e783d-b1f8-4cb6-9e5a-59e6ee83191b",
   "metadata": {},
   "outputs": [
    {
     "name": "stdout",
     "output_type": "stream",
     "text": [
      "[1 2 1 2 1 1 1 3 2 1 1 1 2 2 1 1 2 1 2 1 1 1 1 1 1 1 1 1 1 1 2 1 1 1 2 1 1\n",
      " 2 1 1 1 1 1 1 2 2 1 1 2 1 2 1 1 1 1 2 3 2 1 2 1 2 1 1 2 3 1 1 2 1 3 2 1 3\n",
      " 2 1 2 2 2 2 1 1 2 2 1 1 2 2 2 1 1 2 1 2 1 2 1 2 5 1 2 1 1 2 2 2 1 1 1 1 1\n",
      " 1 1 4 1 1 1 4 2 1 1 2 1 2 1 1 2 2 1 2 2 1 1 1 1 1 1 1 1 1 1 1 4 1 1 1 1 1\n",
      " 1 1 1 3 1 2 1 1 2 1 2 1 1 1 4 1 1 2 4 1 4 1 2 1 1 2 1 1 2 1 1 1 1 1 1 1 2\n",
      " 1 1 2 4 2 1 1 1 1 1 5 1 1 1 1 4 1 2 1 1 1 1 1 1 1 1 3 1 2 1 1 2 1 1 4 3 1\n",
      " 1 1 1 1 1 3 2 1 1 1 1 1 1 1 1 1 1 1 1 1 1 1 1 1 2 3 1 1 7 1 1 2 1 2 2 2 2\n",
      " 1 3 3 1 2 1 1 2 3 2 2 1 1 1 2 1 2 1 2 2 1 1 3 1 1 1 1 1 1 1 1 1 1 3 1 2 2\n",
      " 1 1 1 1 1 7 1 2 2 1 1 2 1 1 2 1 1 1 1 1 1 1 2 1 2 2 1 1 1 1 3 2 2 2 1 2 1\n",
      " 1 2 1 1 2 2 5 2 2 1 1 2 3 2 1 1 1 1 4 1 2 1 2 2 1 7 1 1 2 1 1 1 1 2 1 1 3\n",
      " 2 2 2 4 2 2 1 2 1 2 1 1 1 4 2 3 1 1 1 2 2 6 3 5 1 1 1 2 2 2 1 1 1 2 3 4 3\n",
      " 1 4 1 2 4 1 2 4 4 4 5 4 2 1 1 1 1 1 4 1 2 1 1 1 1 2 1 1 2 1 1 2 1 2 3 1 1\n",
      " 1 2 2 1 3 5 1 2 1 1 4 4 1 1 1 2 1 1 2 1 1 1 1 1 1 3 4 1 1 3 4 1 2 1 1 1 1\n",
      " 1 1 1 1 1 1 2 2 4 1 2 1 2 1 4 2 1 4 1 1 1 1 1 1 1 1 1 2 4 1 2 1 1 2 1 1 2\n",
      " 2 1 2 1 2 2 1 1 1 2 2 7 1 2 1 1 3 1 1 1 2 1 1 2 3 2 1 1 1 1 1 1 4 1 4 2 1\n",
      " 1 4 1 2 1 2 1 2 1 1 2 2 2 1 3 3 2 2 1 1 1 1 3 4 1 1 4 2 2 1 1 1 1 1 2 1 2\n",
      " 1 1 2 1 3 1 1 4 1 1 1 2 1 2 2 2 1 1 2 1 1 1 2 4 2 1 1 1 1 1 2]\n"
     ]
    }
   ],
   "source": [
    "print(Y[1:10].data)"
   ]
  },
  {
   "cell_type": "code",
   "execution_count": 22,
   "id": "51e43704-b27a-4240-b4f1-c4257cdfed19",
   "metadata": {},
   "outputs": [],
   "source": [
    "cts = Y.data"
   ]
  },
  {
   "cell_type": "code",
   "execution_count": 23,
   "id": "5dbb20c9-65be-43bc-a67a-d5685c2b8a35",
   "metadata": {},
   "outputs": [],
   "source": [
    "import pandas as pd\n"
   ]
  },
  {
   "cell_type": "code",
   "execution_count": 24,
   "id": "0c640eed-c8c5-4462-950e-5243b4125965",
   "metadata": {},
   "outputs": [],
   "source": [
    "df = pd.Series(cts)"
   ]
  },
  {
   "cell_type": "code",
   "execution_count": 25,
   "id": "069fc5f0-2b59-45e0-ad90-8390d6cf8d37",
   "metadata": {},
   "outputs": [
    {
     "data": {
      "text/plain": [
       "1    1092279\n",
       "2     555143\n",
       "4      97975\n",
       "3      88753\n",
       "5      13382\n",
       "6       6477\n",
       "7       5681\n",
       "dtype: int64"
      ]
     },
     "execution_count": 25,
     "metadata": {},
     "output_type": "execute_result"
    }
   ],
   "source": [
    "df.value_counts()"
   ]
  },
  {
   "cell_type": "code",
   "execution_count": 26,
   "id": "acdac75b-06cc-4348-b5d3-07d1adfeca18",
   "metadata": {},
   "outputs": [
    {
     "name": "stdout",
     "output_type": "stream",
     "text": [
      "1    1092279\n",
      "2     555143\n",
      "4      97975\n",
      "3      88753\n",
      "5      13382\n",
      "6       6477\n",
      "7       5681\n",
      "dtype: int64\n"
     ]
    }
   ],
   "source": [
    "table= df.value_counts()\n",
    "print(table)"
   ]
  },
  {
   "cell_type": "code",
   "execution_count": 27,
   "id": "6734f03d-0922-4a2a-a79c-5c03d0c238ef",
   "metadata": {},
   "outputs": [
    {
     "name": "stdout",
     "output_type": "stream",
     "text": [
      "1 2 4 3 5 6 7 "
     ]
    }
   ],
   "source": [
    "for row in table.index:\n",
    "    print(row, end = \" \")"
   ]
  },
  {
   "cell_type": "code",
   "execution_count": 28,
   "id": "d726ab1e-8bc1-4166-a652-4729e42a3077",
   "metadata": {},
   "outputs": [
    {
     "name": "stdout",
     "output_type": "stream",
     "text": [
      "[1, 2, 4, 3, 5, 6, 7]\n"
     ]
    },
    {
     "data": {
      "image/png": "[encoded data removed]",
      "text/plain": [
       "<Figure size 720x360 with 1 Axes>"
      ]
     },
     "metadata": {
      "needs_background": "light"
     },
     "output_type": "display_data"
    }
   ],
   "source": [
    "import numpy as np\n",
    "import matplotlib.pyplot as plt\n",
    " \n",
    "  \n",
    "# creating the dataset\n",
    "# data = {'C':20, 'C++':15, 'Java':30,\n",
    "#         'Python':35}\n",
    "#courses = list(data.keys())\n",
    "#values = list(data.values())\n",
    "\n",
    "group = list(table.index)\n",
    "print(group)\n",
    "#group = [\"\",]\n",
    "values = list(table.values)\n",
    "    \n",
    "fig = plt.figure(figsize = (10, 5))\n",
    " \n",
    "# creating the bar plot\n",
    "plt.bar(group, values, color ='maroon',\n",
    "        width = 0.4)\n",
    " \n",
    "plt.xlabel(\"Group\")\n",
    "plt.ylabel(\"Occurrence\")\n",
    "plt.title(\"Non-zero groups\")\n",
    "plt.show()"
   ]
  },
  {
   "cell_type": "code",
   "execution_count": 29,
   "id": "71f5189e-b9a5-4e87-b64a-43cabaf73d9a",
   "metadata": {},
   "outputs": [
    {
     "data": {
      "text/plain": [
       "<AxesSubplot:>"
      ]
     },
     "execution_count": 29,
     "metadata": {},
     "output_type": "execute_result"
    },
    {
     "data": {
      "image/png": "[encoded data removed]",
      "text/plain": [
       "<Figure size 432x288 with 1 Axes>"
      ]
     },
     "metadata": {
      "needs_background": "light"
     },
     "output_type": "display_data"
    }
   ],
   "source": [
    "table.plot.bar()"
   ]
  },
  {
   "cell_type": "code",
   "execution_count": 30,
   "id": "10947c1c-7f84-44f4-b6cb-ef4aeee2b01e",
   "metadata": {},
   "outputs": [
    {
     "name": "stdout",
     "output_type": "stream",
     "text": [
      "groups precentatge:\n",
      "[1.31116829e-02 6.66391920e-03 1.17608883e-03 1.06538823e-03\n",
      " 1.60637109e-04 7.77497053e-05 6.81945462e-05]\n"
     ]
    }
   ],
   "source": [
    "print(\"groups precentatge:\")\n",
    "print(table.values/35329/2358)"
   ]
  },
  {
   "cell_type": "code",
   "execution_count": 31,
   "id": "67b8e80a-27b9-45b0-b5af-a9156ccdc965",
   "metadata": {},
   "outputs": [
    {
     "name": "stdout",
     "output_type": "stream",
     "text": [
      "groups precentatge:\n",
      "[0.58734466 0.29851373 0.05268351 0.04772462 0.00719582 0.00348284\n",
      " 0.00305481]\n"
     ]
    }
   ],
   "source": [
    "print(\"groups precentatge:\")\n",
    "print(table.values/np.sum(table.values))"
   ]
  },
  {
   "cell_type": "code",
   "execution_count": 32,
   "id": "a2d738f0-146c-4e13-9653-e1eeea77e06a",
   "metadata": {},
   "outputs": [
    {
     "data": {
      "text/plain": [
       "2469621"
      ]
     },
     "execution_count": 32,
     "metadata": {},
     "output_type": "execute_result"
    }
   ],
   "source": [
    "np.sum(mm10.data)"
   ]
  },
  {
   "cell_type": "code",
   "execution_count": 33,
   "id": "e4062842-0fbc-40f0-a6d2-9935b33b55d9",
   "metadata": {},
   "outputs": [
    {
     "data": {
      "text/plain": [
       "239868"
      ]
     },
     "execution_count": 33,
     "metadata": {},
     "output_type": "execute_result"
    }
   ],
   "source": [
    "np.sum(CAST.data)"
   ]
  },
  {
   "cell_type": "code",
   "execution_count": null,
   "id": "ebe2d475-d61d-425d-83f8-367382d10f48",
   "metadata": {},
   "outputs": [],
   "source": []
  }
 ],
 "metadata": {
  "kernelspec": {
   "display_name": "pytorch_gpu",
   "language": "python",
   "name": "pytorch_gpu"
  },
  "language_info": {
   "codemirror_mode": {
    "name": "ipython",
    "version": 3
   },
   "file_extension": ".py",
   "mimetype": "text/x-python",
   "name": "python",
   "nbconvert_exporter": "python",
   "pygments_lexer": "ipython3",
   "version": "3.9.1"
  }
 },
 "nbformat": 4,
 "nbformat_minor": 5
}
